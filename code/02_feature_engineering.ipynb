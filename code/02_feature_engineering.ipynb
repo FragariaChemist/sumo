{
 "cells": [
  {
   "cell_type": "markdown",
   "id": "f42e6bab-f877-4344-ac1c-72a1fa1e160b",
   "metadata": {},
   "source": [
    "# Feature Engineering"
   ]
  },
  {
   "cell_type": "code",
   "execution_count": 47,
   "id": "63826d26-f2e6-4093-98b0-50e0249e024b",
   "metadata": {},
   "outputs": [],
   "source": [
    "import pandas as pd"
   ]
  },
  {
   "cell_type": "code",
   "execution_count": 48,
   "id": "78adf09d-45b3-40c1-8bdd-62a4cc124ab0",
   "metadata": {},
   "outputs": [],
   "source": [
    "# Read in sumo csv data\n",
    "sumo_df = pd.read_csv('../data/sumo_df.csv')"
   ]
  },
  {
   "cell_type": "code",
   "execution_count": 49,
   "id": "2708b712-6581-4290-b19c-0505035b4416",
   "metadata": {},
   "outputs": [
    {
     "data": {
      "text/plain": [
       "(645, 11)"
      ]
     },
     "execution_count": 49,
     "metadata": {},
     "output_type": "execute_result"
    }
   ],
   "source": [
    "sumo_df.shape"
   ]
  },
  {
   "cell_type": "code",
   "execution_count": 50,
   "id": "d24e4793-2730-470d-92c2-aa852790548e",
   "metadata": {},
   "outputs": [
    {
     "data": {
      "text/html": [
       "<div>\n",
       "<style scoped>\n",
       "    .dataframe tbody tr th:only-of-type {\n",
       "        vertical-align: middle;\n",
       "    }\n",
       "\n",
       "    .dataframe tbody tr th {\n",
       "        vertical-align: top;\n",
       "    }\n",
       "\n",
       "    .dataframe thead th {\n",
       "        text-align: right;\n",
       "    }\n",
       "</style>\n",
       "<table border=\"1\" class=\"dataframe\">\n",
       "  <thead>\n",
       "    <tr style=\"text-align: right;\">\n",
       "      <th></th>\n",
       "      <th>id</th>\n",
       "      <th>ring_name</th>\n",
       "      <th>current_rank</th>\n",
       "      <th>heya</th>\n",
       "      <th>birthday</th>\n",
       "      <th>height</th>\n",
       "      <th>weight</th>\n",
       "      <th>debut</th>\n",
       "      <th>total_wins</th>\n",
       "      <th>total_losses</th>\n",
       "      <th>total_matches</th>\n",
       "    </tr>\n",
       "  </thead>\n",
       "  <tbody>\n",
       "    <tr>\n",
       "      <th>0</th>\n",
       "      <td>218</td>\n",
       "      <td>Dairaido</td>\n",
       "      <td>Sandanme 27 East</td>\n",
       "      <td>Takadagawa</td>\n",
       "      <td>1980-04-17T00:00:00Z</td>\n",
       "      <td>177.0</td>\n",
       "      <td>151.0</td>\n",
       "      <td>199603</td>\n",
       "      <td>619</td>\n",
       "      <td>580</td>\n",
       "      <td>1199</td>\n",
       "    </tr>\n",
       "    <tr>\n",
       "      <th>1</th>\n",
       "      <td>299</td>\n",
       "      <td>Kayatoiwa</td>\n",
       "      <td>Sandanme 70 East</td>\n",
       "      <td>Minato</td>\n",
       "      <td>1991-07-13T00:00:00Z</td>\n",
       "      <td>176.0</td>\n",
       "      <td>103.5</td>\n",
       "      <td>200703</td>\n",
       "      <td>337</td>\n",
       "      <td>347</td>\n",
       "      <td>684</td>\n",
       "    </tr>\n",
       "    <tr>\n",
       "      <th>2</th>\n",
       "      <td>36</td>\n",
       "      <td>Myogiryu</td>\n",
       "      <td>Juryo 8 West</td>\n",
       "      <td>Sakaigawa</td>\n",
       "      <td>1990-02-27T15:00:00Z</td>\n",
       "      <td>188.0</td>\n",
       "      <td>154.0</td>\n",
       "      <td>200905</td>\n",
       "      <td>601</td>\n",
       "      <td>597</td>\n",
       "      <td>1198</td>\n",
       "    </tr>\n",
       "    <tr>\n",
       "      <th>3</th>\n",
       "      <td>275</td>\n",
       "      <td>Oshozan</td>\n",
       "      <td>Sandanme 48 West</td>\n",
       "      <td>Naruto</td>\n",
       "      <td>2000-05-11T00:00:00Z</td>\n",
       "      <td>168.0</td>\n",
       "      <td>123.0</td>\n",
       "      <td>201603</td>\n",
       "      <td>164</td>\n",
       "      <td>153</td>\n",
       "      <td>317</td>\n",
       "    </tr>\n",
       "    <tr>\n",
       "      <th>4</th>\n",
       "      <td>614</td>\n",
       "      <td>Daitengu</td>\n",
       "      <td>Jonidan 67 East</td>\n",
       "      <td>Takadagawa</td>\n",
       "      <td>2004-06-17T00:00:00Z</td>\n",
       "      <td>177.0</td>\n",
       "      <td>93.0</td>\n",
       "      <td>202301</td>\n",
       "      <td>28</td>\n",
       "      <td>35</td>\n",
       "      <td>63</td>\n",
       "    </tr>\n",
       "  </tbody>\n",
       "</table>\n",
       "</div>"
      ],
      "text/plain": [
       "    id  ring_name      current_rank        heya              birthday  height  \\\n",
       "0  218   Dairaido  Sandanme 27 East  Takadagawa  1980-04-17T00:00:00Z   177.0   \n",
       "1  299  Kayatoiwa  Sandanme 70 East      Minato  1991-07-13T00:00:00Z   176.0   \n",
       "2   36   Myogiryu      Juryo 8 West   Sakaigawa  1990-02-27T15:00:00Z   188.0   \n",
       "3  275    Oshozan  Sandanme 48 West      Naruto  2000-05-11T00:00:00Z   168.0   \n",
       "4  614   Daitengu   Jonidan 67 East  Takadagawa  2004-06-17T00:00:00Z   177.0   \n",
       "\n",
       "   weight   debut  total_wins  total_losses  total_matches  \n",
       "0   151.0  199603         619           580           1199  \n",
       "1   103.5  200703         337           347            684  \n",
       "2   154.0  200905         601           597           1198  \n",
       "3   123.0  201603         164           153            317  \n",
       "4    93.0  202301          28            35             63  "
      ]
     },
     "execution_count": 50,
     "metadata": {},
     "output_type": "execute_result"
    }
   ],
   "source": [
    "sumo_df.head()"
   ]
  },
  {
   "cell_type": "markdown",
   "id": "59acd1e1-a997-4ac0-aabc-c33cbe5f38c3",
   "metadata": {},
   "source": [
    "### Checking For Null Values"
   ]
  },
  {
   "cell_type": "code",
   "execution_count": 51,
   "id": "5c198ae7-6d53-4e35-9164-d5e0055cf749",
   "metadata": {},
   "outputs": [
    {
     "data": {
      "text/plain": [
       "id               0\n",
       "ring_name        0\n",
       "current_rank     0\n",
       "heya             1\n",
       "birthday         1\n",
       "height           1\n",
       "weight           1\n",
       "debut            0\n",
       "total_wins       0\n",
       "total_losses     0\n",
       "total_matches    0\n",
       "dtype: int64"
      ]
     },
     "execution_count": 51,
     "metadata": {},
     "output_type": "execute_result"
    }
   ],
   "source": [
    "# Only one NaN for several features in dataframe.  Suspect it may be one rikishi\n",
    "sumo_df.isnull().sum()"
   ]
  },
  {
   "cell_type": "code",
   "execution_count": 52,
   "id": "ed264339-8c77-4962-9e43-8aea2ff04911",
   "metadata": {},
   "outputs": [
    {
     "data": {
      "text/html": [
       "<div>\n",
       "<style scoped>\n",
       "    .dataframe tbody tr th:only-of-type {\n",
       "        vertical-align: middle;\n",
       "    }\n",
       "\n",
       "    .dataframe tbody tr th {\n",
       "        vertical-align: top;\n",
       "    }\n",
       "\n",
       "    .dataframe thead th {\n",
       "        text-align: right;\n",
       "    }\n",
       "</style>\n",
       "<table border=\"1\" class=\"dataframe\">\n",
       "  <thead>\n",
       "    <tr style=\"text-align: right;\">\n",
       "      <th></th>\n",
       "      <th>id</th>\n",
       "      <th>ring_name</th>\n",
       "      <th>current_rank</th>\n",
       "      <th>heya</th>\n",
       "      <th>birthday</th>\n",
       "      <th>height</th>\n",
       "      <th>weight</th>\n",
       "      <th>debut</th>\n",
       "      <th>total_wins</th>\n",
       "      <th>total_losses</th>\n",
       "      <th>total_matches</th>\n",
       "    </tr>\n",
       "  </thead>\n",
       "  <tbody>\n",
       "    <tr>\n",
       "      <th>591</th>\n",
       "      <td>8889</td>\n",
       "      <td>Anhibiki</td>\n",
       "      <td>Sandanme 62 East</td>\n",
       "      <td>NaN</td>\n",
       "      <td>NaN</td>\n",
       "      <td>NaN</td>\n",
       "      <td>NaN</td>\n",
       "      <td>202401</td>\n",
       "      <td>21</td>\n",
       "      <td>7</td>\n",
       "      <td>28</td>\n",
       "    </tr>\n",
       "  </tbody>\n",
       "</table>\n",
       "</div>"
      ],
      "text/plain": [
       "       id ring_name      current_rank heya birthday  height  weight   debut  \\\n",
       "591  8889  Anhibiki  Sandanme 62 East  NaN      NaN     NaN     NaN  202401   \n",
       "\n",
       "     total_wins  total_losses  total_matches  \n",
       "591          21             7             28  "
      ]
     },
     "execution_count": 52,
     "metadata": {},
     "output_type": "execute_result"
    }
   ],
   "source": [
    "# Only one rikishi (row) has all four NaNs.  Looks like a new rikishi\n",
    "# Will drop this row\n",
    "sumo_df[sumo_df.isna().any(axis = 1)]"
   ]
  },
  {
   "cell_type": "code",
   "execution_count": 53,
   "id": "9fc7c64f-5d02-42be-8aa5-a9a46afed1db",
   "metadata": {},
   "outputs": [],
   "source": [
    "# Drop all NaNss - only one row will be removed\n",
    "sumo_df.dropna(inplace = True)"
   ]
  },
  {
   "cell_type": "markdown",
   "id": "6f678131-51bc-4246-a15d-75d60038aa26",
   "metadata": {},
   "source": [
    "### Ring Names"
   ]
  },
  {
   "cell_type": "markdown",
   "id": "ec14b286-c553-4187-9267-f478b24cdfc6",
   "metadata": {},
   "source": [
    "#### Interesting that there are multiple entries for the same ring name, even though they are supposed to be unique"
   ]
  },
  {
   "cell_type": "code",
   "execution_count": 57,
   "id": "34aeed6c-53d8-4c74-bd68-2d77da822865",
   "metadata": {},
   "outputs": [
    {
     "data": {
      "text/plain": [
       "ring_name\n",
       "Togyokuko     2\n",
       "Daishinkai    2\n",
       "Shunrai       1\n",
       "Tamatensho    1\n",
       "Tsuyasato     1\n",
       "             ..\n",
       "Kaorufuji     1\n",
       "Daishomaru    1\n",
       "Sakurai       1\n",
       "Tokitora      1\n",
       "Kazuma        1\n",
       "Name: count, Length: 642, dtype: int64"
      ]
     },
     "execution_count": 57,
     "metadata": {},
     "output_type": "execute_result"
    }
   ],
   "source": [
    "sumo_df['ring_name'].value_counts()"
   ]
  },
  {
   "cell_type": "code",
   "execution_count": 58,
   "id": "d4ce6903-da12-4e08-8030-2f079e3c15bf",
   "metadata": {},
   "outputs": [
    {
     "data": {
      "text/html": [
       "<div>\n",
       "<style scoped>\n",
       "    .dataframe tbody tr th:only-of-type {\n",
       "        vertical-align: middle;\n",
       "    }\n",
       "\n",
       "    .dataframe tbody tr th {\n",
       "        vertical-align: top;\n",
       "    }\n",
       "\n",
       "    .dataframe thead th {\n",
       "        text-align: right;\n",
       "    }\n",
       "</style>\n",
       "<table border=\"1\" class=\"dataframe\">\n",
       "  <thead>\n",
       "    <tr style=\"text-align: right;\">\n",
       "      <th></th>\n",
       "      <th>id</th>\n",
       "      <th>ring_name</th>\n",
       "      <th>current_rank</th>\n",
       "      <th>heya</th>\n",
       "      <th>birthday</th>\n",
       "      <th>height</th>\n",
       "      <th>weight</th>\n",
       "      <th>debut</th>\n",
       "      <th>total_wins</th>\n",
       "      <th>total_losses</th>\n",
       "      <th>total_matches</th>\n",
       "    </tr>\n",
       "  </thead>\n",
       "  <tbody>\n",
       "    <tr>\n",
       "      <th>564</th>\n",
       "      <td>8861</td>\n",
       "      <td>Togyokuko</td>\n",
       "      <td>Jonidan 78 West</td>\n",
       "      <td>Tamanoi</td>\n",
       "      <td>2007-08-29T00:00:00Z</td>\n",
       "      <td>172.0</td>\n",
       "      <td>114.0</td>\n",
       "      <td>202305</td>\n",
       "      <td>22</td>\n",
       "      <td>30</td>\n",
       "      <td>52</td>\n",
       "    </tr>\n",
       "    <tr>\n",
       "      <th>588</th>\n",
       "      <td>8886</td>\n",
       "      <td>Togyokuko</td>\n",
       "      <td>Jonidan 86 East</td>\n",
       "      <td>Tamanoi</td>\n",
       "      <td>2007-08-29T00:00:00Z</td>\n",
       "      <td>172.0</td>\n",
       "      <td>119.3</td>\n",
       "      <td>202311</td>\n",
       "      <td>0</td>\n",
       "      <td>0</td>\n",
       "      <td>0</td>\n",
       "    </tr>\n",
       "  </tbody>\n",
       "</table>\n",
       "</div>"
      ],
      "text/plain": [
       "       id  ring_name     current_rank     heya              birthday  height  \\\n",
       "564  8861  Togyokuko  Jonidan 78 West  Tamanoi  2007-08-29T00:00:00Z   172.0   \n",
       "588  8886  Togyokuko  Jonidan 86 East  Tamanoi  2007-08-29T00:00:00Z   172.0   \n",
       "\n",
       "     weight   debut  total_wins  total_losses  total_matches  \n",
       "564   114.0  202305          22            30             52  \n",
       "588   119.3  202311           0             0              0  "
      ]
     },
     "execution_count": 58,
     "metadata": {},
     "output_type": "execute_result"
    }
   ],
   "source": [
    "# Turns out there looks like a duplicate entry for the same rikishi.  \n",
    "# Verified names, current heights, and current weights on sumodb.com\n",
    "sumo_df[sumo_df['ring_name'] == 'Togyokuko']"
   ]
  },
  {
   "cell_type": "code",
   "execution_count": 59,
   "id": "cd5034dc-a94f-4a38-9f9d-30a01a8f227f",
   "metadata": {},
   "outputs": [
    {
     "data": {
      "text/html": [
       "<div>\n",
       "<style scoped>\n",
       "    .dataframe tbody tr th:only-of-type {\n",
       "        vertical-align: middle;\n",
       "    }\n",
       "\n",
       "    .dataframe tbody tr th {\n",
       "        vertical-align: top;\n",
       "    }\n",
       "\n",
       "    .dataframe thead th {\n",
       "        text-align: right;\n",
       "    }\n",
       "</style>\n",
       "<table border=\"1\" class=\"dataframe\">\n",
       "  <thead>\n",
       "    <tr style=\"text-align: right;\">\n",
       "      <th></th>\n",
       "      <th>id</th>\n",
       "      <th>ring_name</th>\n",
       "      <th>current_rank</th>\n",
       "      <th>heya</th>\n",
       "      <th>birthday</th>\n",
       "      <th>height</th>\n",
       "      <th>weight</th>\n",
       "      <th>debut</th>\n",
       "      <th>total_wins</th>\n",
       "      <th>total_losses</th>\n",
       "      <th>total_matches</th>\n",
       "    </tr>\n",
       "  </thead>\n",
       "  <tbody>\n",
       "    <tr>\n",
       "      <th>15</th>\n",
       "      <td>8175</td>\n",
       "      <td>Daishinkai</td>\n",
       "      <td>Jonidan 30 East</td>\n",
       "      <td>Otake</td>\n",
       "      <td>1992-12-24T15:00:00Z</td>\n",
       "      <td>180.0</td>\n",
       "      <td>167.0</td>\n",
       "      <td>201903</td>\n",
       "      <td>41</td>\n",
       "      <td>65</td>\n",
       "      <td>106</td>\n",
       "    </tr>\n",
       "    <tr>\n",
       "      <th>179</th>\n",
       "      <td>217</td>\n",
       "      <td>Daishinkai</td>\n",
       "      <td>Sandanme 22 West</td>\n",
       "      <td>Otake</td>\n",
       "      <td>2000-04-25T00:00:00Z</td>\n",
       "      <td>174.0</td>\n",
       "      <td>135.0</td>\n",
       "      <td>201903</td>\n",
       "      <td>103</td>\n",
       "      <td>93</td>\n",
       "      <td>196</td>\n",
       "    </tr>\n",
       "  </tbody>\n",
       "</table>\n",
       "</div>"
      ],
      "text/plain": [
       "       id   ring_name      current_rank   heya              birthday  height  \\\n",
       "15   8175  Daishinkai   Jonidan 30 East  Otake  1992-12-24T15:00:00Z   180.0   \n",
       "179   217  Daishinkai  Sandanme 22 West  Otake  2000-04-25T00:00:00Z   174.0   \n",
       "\n",
       "     weight   debut  total_wins  total_losses  total_matches  \n",
       "15    167.0  201903          41            65            106  \n",
       "179   135.0  201903         103            93            196  "
      ]
     },
     "execution_count": 59,
     "metadata": {},
     "output_type": "execute_result"
    }
   ],
   "source": [
    "# Row 179 is more accurate.  Weight, height, and birthday are verified via sumo association\n",
    "sumo_df[sumo_df['ring_name'] == 'Daishinkai']"
   ]
  },
  {
   "cell_type": "code",
   "execution_count": 60,
   "id": "3bac3223-a150-44ea-a6c3-2ea0d8e439bf",
   "metadata": {},
   "outputs": [],
   "source": [
    "# THe tilde switches the boolean statement so the code will mark the two rows as 'False' and not include them in the \n",
    "# updated dataframe\n",
    "sumo_df = sumo_df[~sumo_df['id'].isin([8886, 8175])]"
   ]
  },
  {
   "cell_type": "markdown",
   "id": "1ee28012-0126-418a-9d10-c286e62d852b",
   "metadata": {},
   "source": [
    "### Rank Categories"
   ]
  },
  {
   "cell_type": "markdown",
   "id": "8f1a862a-3412-478b-b7e3-96d911294aa1",
   "metadata": {},
   "source": [
    "#### To simply the ranking system, which inlcudes numerical and east/west rankings within the categories, I'll only consider the main categories.  There are ten ranks total. There are fixed number of rikishi allowed above rank Jonidan.  This includes:\n",
    "\n",
    "#### Sandame: 200\n",
    "#### Makushita: 120\n",
    "#### Juryo: 28\n",
    "#### Maegashira: 32\n",
    "#### Komusubi: At least two\n",
    "#### Sekiwake: At least two\n",
    "#### Ozeki: At least two\n",
    "#### Yokozuna: Top position - No limit - 73 total rikishi have reached this rank in history of sumo\n",
    "\n"
   ]
  },
  {
   "cell_type": "markdown",
   "id": "572acb30-0421-476b-b04e-9f2a97b5da80",
   "metadata": {},
   "source": [
    "#### There shouldn't be more than one entry for each full ranking (except for Banzuke-gai but the dataset has up to three entries for some of the ranks.  Ranks change every other month after a tournament, so this information changes frequently, esepecially within lower ranks.  This feature will not be used for modeling, but may be interesting to visualize the higher ranks."
   ]
  },
  {
   "cell_type": "code",
   "execution_count": 109,
   "id": "3fa85c3e-9d35-4dc6-87fc-b89f03d1f800",
   "metadata": {},
   "outputs": [
    {
     "data": {
      "text/plain": [
       "current_rank\n",
       "Banzuke-gai          9\n",
       "Jonokuchi 14 East    3\n",
       "Jonokuchi 2 West     3\n",
       "Jonokuchi 18 East    2\n",
       "Sandanme 22 West     2\n",
       "                    ..\n",
       "Jonidan 46 East      1\n",
       "Makushita 36 West    1\n",
       "Sandanme 61 East     1\n",
       "Makushita 8 East     1\n",
       "Jonokuchi 16 East    1\n",
       "Name: count, Length: 601, dtype: int64"
      ]
     },
     "execution_count": 109,
     "metadata": {},
     "output_type": "execute_result"
    }
   ],
   "source": [
    "sumo_df['current_rank'].value_counts(ascending = False)"
   ]
  },
  {
   "cell_type": "code",
   "execution_count": 110,
   "id": "2a209508-b668-4f30-8bb7-2a9e8005c47a",
   "metadata": {},
   "outputs": [
    {
     "data": {
      "text/html": [
       "<div>\n",
       "<style scoped>\n",
       "    .dataframe tbody tr th:only-of-type {\n",
       "        vertical-align: middle;\n",
       "    }\n",
       "\n",
       "    .dataframe tbody tr th {\n",
       "        vertical-align: top;\n",
       "    }\n",
       "\n",
       "    .dataframe thead th {\n",
       "        text-align: right;\n",
       "    }\n",
       "</style>\n",
       "<table border=\"1\" class=\"dataframe\">\n",
       "  <thead>\n",
       "    <tr style=\"text-align: right;\">\n",
       "      <th></th>\n",
       "      <th>id</th>\n",
       "      <th>ring_name</th>\n",
       "      <th>current_rank</th>\n",
       "      <th>heya</th>\n",
       "      <th>birthday</th>\n",
       "      <th>height</th>\n",
       "      <th>weight</th>\n",
       "      <th>debut</th>\n",
       "      <th>total_wins</th>\n",
       "      <th>total_losses</th>\n",
       "      <th>total_matches</th>\n",
       "      <th>rank_category</th>\n",
       "    </tr>\n",
       "  </thead>\n",
       "  <tbody>\n",
       "    <tr>\n",
       "      <th>408</th>\n",
       "      <td>45</td>\n",
       "      <td>Terunofuji</td>\n",
       "      <td>Yokozuna 1 East</td>\n",
       "      <td>Isegahama</td>\n",
       "      <td>1993-06-26T15:00:00Z</td>\n",
       "      <td>192.0</td>\n",
       "      <td>176.0</td>\n",
       "      <td>201101</td>\n",
       "      <td>521</td>\n",
       "      <td>272</td>\n",
       "      <td>793</td>\n",
       "      <td>Yokozuna</td>\n",
       "    </tr>\n",
       "  </tbody>\n",
       "</table>\n",
       "</div>"
      ],
      "text/plain": [
       "     id   ring_name     current_rank       heya              birthday  height  \\\n",
       "408  45  Terunofuji  Yokozuna 1 East  Isegahama  1993-06-26T15:00:00Z   192.0   \n",
       "\n",
       "     weight   debut  total_wins  total_losses  total_matches rank_category  \n",
       "408   176.0  201101         521           272            793      Yokozuna  "
      ]
     },
     "execution_count": 110,
     "metadata": {},
     "output_type": "execute_result"
    }
   ],
   "source": [
    "# Only one active Yokozuna currently\n",
    "sumo_df[sumo_df['current_rank'].str.contains('Yoko')]"
   ]
  },
  {
   "cell_type": "code",
   "execution_count": 95,
   "id": "91e16a30-5c3c-454e-a44e-2c19be1a45fc",
   "metadata": {},
   "outputs": [],
   "source": [
    "# Create a lambda function that iterates through current_rank column and returns only rank category\n",
    "# For example, 'Sandanme 27 East' returns 'Sandame'\n",
    "sumo_df['rank_category'] = sumo_df['current_rank'].map(lambda x: x.split(' ')[0])"
   ]
  },
  {
   "cell_type": "code",
   "execution_count": 96,
   "id": "f7847c0e-8a0a-4ff7-8530-74afedd50f8c",
   "metadata": {},
   "outputs": [
    {
     "data": {
      "text/html": [
       "<div>\n",
       "<style scoped>\n",
       "    .dataframe tbody tr th:only-of-type {\n",
       "        vertical-align: middle;\n",
       "    }\n",
       "\n",
       "    .dataframe tbody tr th {\n",
       "        vertical-align: top;\n",
       "    }\n",
       "\n",
       "    .dataframe thead th {\n",
       "        text-align: right;\n",
       "    }\n",
       "</style>\n",
       "<table border=\"1\" class=\"dataframe\">\n",
       "  <thead>\n",
       "    <tr style=\"text-align: right;\">\n",
       "      <th></th>\n",
       "      <th>id</th>\n",
       "      <th>ring_name</th>\n",
       "      <th>current_rank</th>\n",
       "      <th>heya</th>\n",
       "      <th>birthday</th>\n",
       "      <th>height</th>\n",
       "      <th>weight</th>\n",
       "      <th>debut</th>\n",
       "      <th>total_wins</th>\n",
       "      <th>total_losses</th>\n",
       "      <th>total_matches</th>\n",
       "      <th>rank_category</th>\n",
       "    </tr>\n",
       "  </thead>\n",
       "  <tbody>\n",
       "    <tr>\n",
       "      <th>0</th>\n",
       "      <td>218</td>\n",
       "      <td>Dairaido</td>\n",
       "      <td>Sandanme 27 East</td>\n",
       "      <td>Takadagawa</td>\n",
       "      <td>1980-04-17T00:00:00Z</td>\n",
       "      <td>177.0</td>\n",
       "      <td>151.0</td>\n",
       "      <td>199603</td>\n",
       "      <td>619</td>\n",
       "      <td>580</td>\n",
       "      <td>1199</td>\n",
       "      <td>Sandanme</td>\n",
       "    </tr>\n",
       "    <tr>\n",
       "      <th>1</th>\n",
       "      <td>299</td>\n",
       "      <td>Kayatoiwa</td>\n",
       "      <td>Sandanme 70 East</td>\n",
       "      <td>Minato</td>\n",
       "      <td>1991-07-13T00:00:00Z</td>\n",
       "      <td>176.0</td>\n",
       "      <td>103.5</td>\n",
       "      <td>200703</td>\n",
       "      <td>337</td>\n",
       "      <td>347</td>\n",
       "      <td>684</td>\n",
       "      <td>Sandanme</td>\n",
       "    </tr>\n",
       "    <tr>\n",
       "      <th>2</th>\n",
       "      <td>36</td>\n",
       "      <td>Myogiryu</td>\n",
       "      <td>Juryo 8 West</td>\n",
       "      <td>Sakaigawa</td>\n",
       "      <td>1990-02-27T15:00:00Z</td>\n",
       "      <td>188.0</td>\n",
       "      <td>154.0</td>\n",
       "      <td>200905</td>\n",
       "      <td>601</td>\n",
       "      <td>597</td>\n",
       "      <td>1198</td>\n",
       "      <td>Juryo</td>\n",
       "    </tr>\n",
       "    <tr>\n",
       "      <th>3</th>\n",
       "      <td>275</td>\n",
       "      <td>Oshozan</td>\n",
       "      <td>Sandanme 48 West</td>\n",
       "      <td>Naruto</td>\n",
       "      <td>2000-05-11T00:00:00Z</td>\n",
       "      <td>168.0</td>\n",
       "      <td>123.0</td>\n",
       "      <td>201603</td>\n",
       "      <td>164</td>\n",
       "      <td>153</td>\n",
       "      <td>317</td>\n",
       "      <td>Sandanme</td>\n",
       "    </tr>\n",
       "    <tr>\n",
       "      <th>4</th>\n",
       "      <td>614</td>\n",
       "      <td>Daitengu</td>\n",
       "      <td>Jonidan 67 East</td>\n",
       "      <td>Takadagawa</td>\n",
       "      <td>2004-06-17T00:00:00Z</td>\n",
       "      <td>177.0</td>\n",
       "      <td>93.0</td>\n",
       "      <td>202301</td>\n",
       "      <td>28</td>\n",
       "      <td>35</td>\n",
       "      <td>63</td>\n",
       "      <td>Jonidan</td>\n",
       "    </tr>\n",
       "  </tbody>\n",
       "</table>\n",
       "</div>"
      ],
      "text/plain": [
       "    id  ring_name      current_rank        heya              birthday  height  \\\n",
       "0  218   Dairaido  Sandanme 27 East  Takadagawa  1980-04-17T00:00:00Z   177.0   \n",
       "1  299  Kayatoiwa  Sandanme 70 East      Minato  1991-07-13T00:00:00Z   176.0   \n",
       "2   36   Myogiryu      Juryo 8 West   Sakaigawa  1990-02-27T15:00:00Z   188.0   \n",
       "3  275    Oshozan  Sandanme 48 West      Naruto  2000-05-11T00:00:00Z   168.0   \n",
       "4  614   Daitengu   Jonidan 67 East  Takadagawa  2004-06-17T00:00:00Z   177.0   \n",
       "\n",
       "   weight   debut  total_wins  total_losses  total_matches rank_category  \n",
       "0   151.0  199603         619           580           1199      Sandanme  \n",
       "1   103.5  200703         337           347            684      Sandanme  \n",
       "2   154.0  200905         601           597           1198         Juryo  \n",
       "3   123.0  201603         164           153            317      Sandanme  \n",
       "4    93.0  202301          28            35             63       Jonidan  "
      ]
     },
     "execution_count": 96,
     "metadata": {},
     "output_type": "execute_result"
    }
   ],
   "source": [
    "sumo_df.head()"
   ]
  },
  {
   "cell_type": "markdown",
   "id": "7360baed-ae25-4b46-b87b-c7662354e9ff",
   "metadata": {},
   "source": [
    "### Heya"
   ]
  },
  {
   "cell_type": "code",
   "execution_count": 111,
   "id": "3ad692a4-402c-405f-96e1-11ba956a3487",
   "metadata": {},
   "outputs": [
    {
     "data": {
      "text/plain": [
       "heya\n",
       "Isegahama      27\n",
       "Kokonoe        25\n",
       "Nishonoseki    25\n",
       "Sadogatake     24\n",
       "Oitekaze       23\n",
       "Takasago       22\n",
       "Sakaigawa      21\n",
       "Kise           21\n",
       "Tamanoi        20\n",
       "Tokitsukaze    19\n",
       "Takadagawa     19\n",
       "Dewanoumi      18\n",
       "Tatsunami      18\n",
       "Hakkaku        17\n",
       "Shikoroyama    17\n",
       "Naruto         17\n",
       "Kasugano       16\n",
       "Onomatsu       16\n",
       "Musashigawa    16\n",
       "Futagoyama     16\n",
       "Isenoumi       15\n",
       "Arashio        15\n",
       "Shikihide      15\n",
       "Fujishima      14\n",
       "Onoe           14\n",
       "Miyagino       14\n",
       "Yamahibiki     13\n",
       "Otake          13\n",
       "Tagonoura      13\n",
       "Asakayama      12\n",
       "Nishiiwa       11\n",
       "Hanaregoma     10\n",
       "Tokiwayama      9\n",
       "Oshima          9\n",
       "Takekuma        8\n",
       "Minato          8\n",
       "Shibatayama     8\n",
       "Asahiyama       7\n",
       "Michinoku       7\n",
       "Oshiogawa       7\n",
       "Irumagawa       6\n",
       "Ajigawa         5\n",
       "Kataonami       4\n",
       "Nishikido       4\n",
       "Otowayama       3\n",
       "Ikazuchi        1\n",
       "Name: count, dtype: int64"
      ]
     },
     "execution_count": 111,
     "metadata": {},
     "output_type": "execute_result"
    }
   ],
   "source": [
    "sumo_df['heya'].value_counts()"
   ]
  },
  {
   "cell_type": "code",
   "execution_count": null,
   "id": "7e8d027d-a6a8-4b36-9e7d-d17457d3a136",
   "metadata": {},
   "outputs": [],
   "source": []
  }
 ],
 "metadata": {
  "kernelspec": {
   "display_name": "Python 3 (ipykernel)",
   "language": "python",
   "name": "python3"
  },
  "language_info": {
   "codemirror_mode": {
    "name": "ipython",
    "version": 3
   },
   "file_extension": ".py",
   "mimetype": "text/x-python",
   "name": "python",
   "nbconvert_exporter": "python",
   "pygments_lexer": "ipython3",
   "version": "3.11.7"
  }
 },
 "nbformat": 4,
 "nbformat_minor": 5
}
