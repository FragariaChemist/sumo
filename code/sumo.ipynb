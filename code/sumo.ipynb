{
 "cells": [
  {
   "cell_type": "code",
   "execution_count": null,
   "id": "3b09f540-7709-45ac-a9b7-58a3418e80ba",
   "metadata": {},
   "outputs": [],
   "source": [
    "import pandas as pd\n",
    "import requests\n",
    "import json"
   ]
  },
  {
   "cell_type": "code",
   "execution_count": 111,
   "id": "97602375-4bff-424c-9e7d-21e890b7da8f",
   "metadata": {},
   "outputs": [],
   "source": [
    "def feature_collect(feature):\n",
    "    return [i.get(feature) for i in rikishi_data]"
   ]
  },
  {
   "cell_type": "code",
   "execution_count": 113,
   "id": "9b001ec4-3e07-4849-b139-b8b19ddb3972",
   "metadata": {},
   "outputs": [],
   "source": [
    "# API location\n",
    "url = 'https://www.sumo-api.com/api/rikishis'\n",
    "\n",
    "#Ping the website\n",
    "response = requests.get(url)\n",
    "if response.status_code == 200:\n",
    "    data = response.json()\n",
    "    rikishi_data = data.get('records', [])\n",
    "\n",
    "    # Collect lists of relevant features from rikishi_data\n",
    "    id = feature_collect('id')\n",
    "    ring_name = feature_collect('shikonaEn')\n",
    "    current_rank = feature_collect('currentRank')\n",
    "    heya = feature_collect('heya')\n",
    "    birthday = feature_collect('birthDate')\n",
    "    height = feature_collect('height')\n",
    "    weight = feature_collect('weight')\n",
    "    debut = feature_collect('debut')\n",
    "\n",
    "    #Construct features into a dataframe\n",
    "    rikishi_df = pd.DataFrame({\n",
    "        'id':id,\n",
    "        'ring_name':ring_name,\n",
    "        'current_rank':current_rank,\n",
    "        'heya':heya,\n",
    "        'birthday':birthday,\n",
    "        'height':height,\n",
    "        'weight':weight,\n",
    "        'debut':debut\n",
    "    })\n",
    "\n",
    "else:\n",
    "    print('Failed to connect to website', response.status_code)"
   ]
  },
  {
   "cell_type": "code",
   "execution_count": 135,
   "id": "637e2935-346f-4c03-b7c6-05c808d5eb5f",
   "metadata": {},
   "outputs": [],
   "source": [
    "# rikishi_df.to_csv('./sumo/data/rikishi_df.csv', index = False)"
   ]
  },
  {
   "cell_type": "markdown",
   "id": "0084bf26-fdb7-4fc1-a507-968c81e96b6f",
   "metadata": {},
   "source": [
    "#### Use Rikishi IDs to call the API and pull data from the statistics section."
   ]
  },
  {
   "cell_type": "code",
   "execution_count": 140,
   "id": "7a2d61cc-9661-452b-a05b-97f988d88f21",
   "metadata": {},
   "outputs": [],
   "source": [
    "# Collect all of the rikishi IDs into a list because they are necessary to collect other features from the API.\n",
    "id_list = rikishi_df['id'].tolist()"
   ]
  },
  {
   "cell_type": "code",
   "execution_count": 163,
   "id": "7dc54248-d4cc-4160-92b0-0e20a0364c8f",
   "metadata": {},
   "outputs": [],
   "source": [
    "stats_list = []\n",
    "\n",
    "for id in id_list:\n",
    "    stats_url = f'https://www.sumo-api.com/api/rikishi/{id}/stats'\n",
    "    stats_response = requests.get(stats_url)\n",
    "    if stats_response.status_code == 200:\n",
    "        stats_data = stats_response.json()\n",
    "        stats_list.append(stats_data)\n",
    "    else:\n",
    "        print('Failed to connect to website', response.status_code)"
   ]
  },
  {
   "cell_type": "code",
   "execution_count": 174,
   "id": "25c18899-a6ec-4324-b38d-04e0df3fe476",
   "metadata": {},
   "outputs": [],
   "source": [
    "#Pull features out of stats_likst dictionary\n",
    "total_losses = [rikishi.get('totalLosses') for rikishi in stats_list]\n",
    "total_wins = [rikishi.get('totalWins') for rikishi in stats_list]\n",
    "total_matches = [rikishi.get('totalMatches') for rikishi in stats_list]\n",
    "\n",
    "#Put it in a dataframe, inclouding ID for reference and joining\n",
    "stats_df = pd.DataFrame({'id':id_list,\n",
    "                         'total_wins':total_wins,\n",
    "                         'total_losses':total_losses,\n",
    "                         'total_matches':total_matches\n",
    "                        })\n",
    "            "
   ]
  },
  {
   "cell_type": "code",
   "execution_count": 178,
   "id": "e22dc93d-c3ae-4793-aae5-197fb6e835c1",
   "metadata": {},
   "outputs": [],
   "source": [
    "sumo_df = pd.merge(rikishi_df, stats_df, on = 'id')"
   ]
  },
  {
   "cell_type": "code",
   "execution_count": 179,
   "id": "70d5fdc0-f78b-4252-9369-7f419300af0e",
   "metadata": {},
   "outputs": [
    {
     "data": {
      "text/html": [
       "<div>\n",
       "<style scoped>\n",
       "    .dataframe tbody tr th:only-of-type {\n",
       "        vertical-align: middle;\n",
       "    }\n",
       "\n",
       "    .dataframe tbody tr th {\n",
       "        vertical-align: top;\n",
       "    }\n",
       "\n",
       "    .dataframe thead th {\n",
       "        text-align: right;\n",
       "    }\n",
       "</style>\n",
       "<table border=\"1\" class=\"dataframe\">\n",
       "  <thead>\n",
       "    <tr style=\"text-align: right;\">\n",
       "      <th></th>\n",
       "      <th>id</th>\n",
       "      <th>ring_name</th>\n",
       "      <th>current_rank</th>\n",
       "      <th>heya</th>\n",
       "      <th>birthday</th>\n",
       "      <th>height</th>\n",
       "      <th>weight</th>\n",
       "      <th>debut</th>\n",
       "      <th>total_wins</th>\n",
       "      <th>total_losses</th>\n",
       "      <th>total_matches</th>\n",
       "    </tr>\n",
       "  </thead>\n",
       "  <tbody>\n",
       "    <tr>\n",
       "      <th>0</th>\n",
       "      <td>218</td>\n",
       "      <td>Dairaido</td>\n",
       "      <td>Sandanme 27 East</td>\n",
       "      <td>Takadagawa</td>\n",
       "      <td>1980-04-17T00:00:00Z</td>\n",
       "      <td>177.0</td>\n",
       "      <td>151.0</td>\n",
       "      <td>199603</td>\n",
       "      <td>619</td>\n",
       "      <td>580</td>\n",
       "      <td>1199</td>\n",
       "    </tr>\n",
       "    <tr>\n",
       "      <th>1</th>\n",
       "      <td>299</td>\n",
       "      <td>Kayatoiwa</td>\n",
       "      <td>Sandanme 70 East</td>\n",
       "      <td>Minato</td>\n",
       "      <td>1991-07-13T00:00:00Z</td>\n",
       "      <td>176.0</td>\n",
       "      <td>103.5</td>\n",
       "      <td>200703</td>\n",
       "      <td>337</td>\n",
       "      <td>347</td>\n",
       "      <td>684</td>\n",
       "    </tr>\n",
       "    <tr>\n",
       "      <th>2</th>\n",
       "      <td>36</td>\n",
       "      <td>Myogiryu</td>\n",
       "      <td>Juryo 8 West</td>\n",
       "      <td>Sakaigawa</td>\n",
       "      <td>1990-02-27T15:00:00Z</td>\n",
       "      <td>188.0</td>\n",
       "      <td>154.0</td>\n",
       "      <td>200905</td>\n",
       "      <td>601</td>\n",
       "      <td>597</td>\n",
       "      <td>1198</td>\n",
       "    </tr>\n",
       "    <tr>\n",
       "      <th>3</th>\n",
       "      <td>275</td>\n",
       "      <td>Oshozan</td>\n",
       "      <td>Sandanme 48 West</td>\n",
       "      <td>Naruto</td>\n",
       "      <td>2000-05-11T00:00:00Z</td>\n",
       "      <td>168.0</td>\n",
       "      <td>123.0</td>\n",
       "      <td>201603</td>\n",
       "      <td>164</td>\n",
       "      <td>153</td>\n",
       "      <td>317</td>\n",
       "    </tr>\n",
       "    <tr>\n",
       "      <th>4</th>\n",
       "      <td>614</td>\n",
       "      <td>Daitengu</td>\n",
       "      <td>Jonidan 67 East</td>\n",
       "      <td>Takadagawa</td>\n",
       "      <td>2004-06-17T00:00:00Z</td>\n",
       "      <td>177.0</td>\n",
       "      <td>93.0</td>\n",
       "      <td>202301</td>\n",
       "      <td>28</td>\n",
       "      <td>35</td>\n",
       "      <td>63</td>\n",
       "    </tr>\n",
       "  </tbody>\n",
       "</table>\n",
       "</div>"
      ],
      "text/plain": [
       "    id  ring_name      current_rank        heya              birthday  height  \\\n",
       "0  218   Dairaido  Sandanme 27 East  Takadagawa  1980-04-17T00:00:00Z   177.0   \n",
       "1  299  Kayatoiwa  Sandanme 70 East      Minato  1991-07-13T00:00:00Z   176.0   \n",
       "2   36   Myogiryu      Juryo 8 West   Sakaigawa  1990-02-27T15:00:00Z   188.0   \n",
       "3  275    Oshozan  Sandanme 48 West      Naruto  2000-05-11T00:00:00Z   168.0   \n",
       "4  614   Daitengu   Jonidan 67 East  Takadagawa  2004-06-17T00:00:00Z   177.0   \n",
       "\n",
       "   weight   debut  total_wins  total_losses  total_matches  \n",
       "0   151.0  199603         619           580           1199  \n",
       "1   103.5  200703         337           347            684  \n",
       "2   154.0  200905         601           597           1198  \n",
       "3   123.0  201603         164           153            317  \n",
       "4    93.0  202301          28            35             63  "
      ]
     },
     "execution_count": 179,
     "metadata": {},
     "output_type": "execute_result"
    }
   ],
   "source": [
    "sumo_df.head()"
   ]
  },
  {
   "cell_type": "code",
   "execution_count": 180,
   "id": "a94ec79d-f87d-42b0-a1f8-d93688afd8ad",
   "metadata": {},
   "outputs": [],
   "source": [
    "sumo_df.to_csv('./sumo/data/sumo_df.csv', index = False)"
   ]
  },
  {
   "cell_type": "code",
   "execution_count": null,
   "id": "0e53df04-cfa4-4e26-bf1b-4a83234fbea7",
   "metadata": {},
   "outputs": [],
   "source": []
  }
 ],
 "metadata": {
  "kernelspec": {
   "display_name": "Python 3 (ipykernel)",
   "language": "python",
   "name": "python3"
  },
  "language_info": {
   "codemirror_mode": {
    "name": "ipython",
    "version": 3
   },
   "file_extension": ".py",
   "mimetype": "text/x-python",
   "name": "python",
   "nbconvert_exporter": "python",
   "pygments_lexer": "ipython3",
   "version": "3.11.7"
  }
 },
 "nbformat": 4,
 "nbformat_minor": 5
}
